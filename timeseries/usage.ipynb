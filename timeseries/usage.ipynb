{
 "cells": [
  {
   "cell_type": "code",
   "execution_count": 1,
   "metadata": {},
   "outputs": [
    {
     "name": "stdout",
     "output_type": "stream",
     "text": [
      "Requirement already satisfied: scikit-learn in c:\\users\\prana\\anaconda3\\envs\\ml_hw3\\lib\\site-packages (1.5.1)\n",
      "Requirement already satisfied: numpy>=1.19.5 in c:\\users\\prana\\anaconda3\\envs\\ml_hw3\\lib\\site-packages (from scikit-learn) (1.26.4)\n",
      "Requirement already satisfied: scipy>=1.6.0 in c:\\users\\prana\\anaconda3\\envs\\ml_hw3\\lib\\site-packages (from scikit-learn) (1.13.1)\n",
      "Requirement already satisfied: joblib>=1.2.0 in c:\\users\\prana\\anaconda3\\envs\\ml_hw3\\lib\\site-packages (from scikit-learn) (1.4.2)\n",
      "Requirement already satisfied: threadpoolctl>=3.1.0 in c:\\users\\prana\\anaconda3\\envs\\ml_hw3\\lib\\site-packages (from scikit-learn) (3.5.0)\n",
      "Requirement already satisfied: pandas in c:\\users\\prana\\anaconda3\\envs\\ml_hw3\\lib\\site-packages (2.2.2)\n",
      "Requirement already satisfied: numpy>=1.23.2 in c:\\users\\prana\\anaconda3\\envs\\ml_hw3\\lib\\site-packages (from pandas) (1.26.4)\n",
      "Requirement already satisfied: python-dateutil>=2.8.2 in c:\\users\\prana\\anaconda3\\envs\\ml_hw3\\lib\\site-packages (from pandas) (2.9.0.post0)\n",
      "Requirement already satisfied: pytz>=2020.1 in c:\\users\\prana\\anaconda3\\envs\\ml_hw3\\lib\\site-packages (from pandas) (2024.1)\n",
      "Requirement already satisfied: tzdata>=2022.7 in c:\\users\\prana\\anaconda3\\envs\\ml_hw3\\lib\\site-packages (from pandas) (2023.3)\n",
      "Requirement already satisfied: six>=1.5 in c:\\users\\prana\\anaconda3\\envs\\ml_hw3\\lib\\site-packages (from python-dateutil>=2.8.2->pandas) (1.16.0)\n"
     ]
    }
   ],
   "source": [
    "!pip install scikit-learn\n",
    "!pip install pandas"
   ]
  },
  {
   "cell_type": "code",
   "execution_count": 4,
   "metadata": {},
   "outputs": [],
   "source": [
    "from sklearn.ensemble import BaggingRegressor\n",
    "import pandas as pd\n",
    "import pickle"
   ]
  },
  {
   "cell_type": "code",
   "execution_count": null,
   "metadata": {},
   "outputs": [
    {
     "name": "stderr",
     "output_type": "stream",
     "text": [
      "c:\\Users\\prana\\anaconda3\\envs\\ml_hw3\\Lib\\site-packages\\sklearn\\base.py:376: InconsistentVersionWarning: Trying to unpickle estimator DecisionTreeRegressor from version 1.5.2 when using version 1.5.1. This might lead to breaking code or invalid results. Use at your own risk. For more info please refer to:\n",
      "https://scikit-learn.org/stable/model_persistence.html#security-maintainability-limitations\n",
      "  warnings.warn(\n",
      "c:\\Users\\prana\\anaconda3\\envs\\ml_hw3\\Lib\\site-packages\\sklearn\\base.py:376: InconsistentVersionWarning: Trying to unpickle estimator BaggingRegressor from version 1.5.2 when using version 1.5.1. This might lead to breaking code or invalid results. Use at your own risk. For more info please refer to:\n",
      "https://scikit-learn.org/stable/model_persistence.html#security-maintainability-limitations\n",
      "  warnings.warn(\n"
     ]
    },
    {
     "name": "stdout",
     "output_type": "stream",
     "text": [
      "       Area  Item  Year  average_rain_fall_mm_per_year  pesticides_tonnes  \\\n",
      "13641    30     0  2013                         1083.0            45620.0   \n",
      "\n",
      "       avg_temp  \n",
      "13641     26.37  \n",
      "Prediction:\n",
      "[349594.]\n",
      "Actual:\n",
      "13641    349594\n",
      "Name: hg/ha_yield, dtype: int64 \n",
      "\n",
      "\n",
      "\n",
      "       Area  Item  Year  average_rain_fall_mm_per_year  pesticides_tonnes  \\\n",
      "16069    35     9  2006                         1668.0           65248.26   \n",
      "\n",
      "       avg_temp  \n",
      "16069     15.45  \n",
      "Prediction:\n",
      "[225197.39333333]\n",
      "Actual:\n",
      "16069    225059\n",
      "Name: hg/ha_yield, dtype: int64 \n",
      "\n",
      "\n",
      "\n",
      "      Area  Item  Year  average_rain_fall_mm_per_year  pesticides_tonnes  \\\n",
      "9736    29     4  2009                          589.0            11144.0   \n",
      "\n",
      "      avg_temp  \n",
      "9736     11.48  \n",
      "Prediction:\n",
      "[39070.78]\n",
      "Actual:\n",
      "9736    43223\n",
      "Name: hg/ha_yield, dtype: int64 \n",
      "\n",
      "\n",
      "\n",
      "     Area  Item  Year  average_rain_fall_mm_per_year  pesticides_tonnes  \\\n",
      "300     2     4  1991                          591.0            26156.0   \n",
      "\n",
      "     avg_temp  \n",
      "300     17.64  \n",
      "Prediction:\n",
      "[39835.57333333]\n",
      "Actual:\n",
      "300    40294\n",
      "Name: hg/ha_yield, dtype: int64 \n",
      "\n",
      "\n",
      "\n",
      "      Area  Item  Year  average_rain_fall_mm_per_year  pesticides_tonnes  \\\n",
      "9212    26     7  2009                         2387.0             264.47   \n",
      "\n",
      "      avg_temp  \n",
      "9212     27.67  \n",
      "Prediction:\n",
      "[185253.72]\n",
      "Actual:\n",
      "9212    329827\n",
      "Name: hg/ha_yield, dtype: int64 \n",
      "\n",
      "\n",
      "\n",
      "       Area  Item  Year  average_rain_fall_mm_per_year  pesticides_tonnes  \\\n",
      "14189    31     3  2000                         2702.0             1597.0   \n",
      "\n",
      "       avg_temp  \n",
      "14189     27.44  \n",
      "Prediction:\n",
      "[138156.53333333]\n",
      "Actual:\n",
      "14189    133759\n",
      "Name: hg/ha_yield, dtype: int64 \n",
      "\n",
      "\n",
      "\n",
      "      Area  Item  Year  average_rain_fall_mm_per_year  pesticides_tonnes  \\\n",
      "8316    21     8  2004                          700.0           34930.37   \n",
      "\n",
      "      avg_temp  \n",
      "8316      9.48  \n",
      "Prediction:\n",
      "[77343.52666667]\n",
      "Actual:\n",
      "8316    81716\n",
      "Name: hg/ha_yield, dtype: int64 \n",
      "\n",
      "\n",
      "\n",
      "       Area  Item  Year  average_rain_fall_mm_per_year  pesticides_tonnes  \\\n",
      "21274    50     6  2007                          494.0            5935.96   \n",
      "\n",
      "       avg_temp  \n",
      "21274      19.5  \n",
      "Prediction:\n",
      "[6404.12666667]\n",
      "Actual:\n",
      "21274    5818\n",
      "Name: hg/ha_yield, dtype: int64 \n",
      "\n",
      "\n",
      "\n",
      "       Area  Item  Year  average_rain_fall_mm_per_year  pesticides_tonnes  \\\n",
      "17124    39     4  2008                         1513.0             112.11   \n",
      "\n",
      "       avg_temp  \n",
      "17124     19.79  \n",
      "Prediction:\n",
      "[28493.00666667]\n",
      "Actual:\n",
      "17124    30495\n",
      "Name: hg/ha_yield, dtype: int64 \n",
      "\n",
      "\n",
      "\n",
      "       Area  Item  Year  average_rain_fall_mm_per_year  pesticides_tonnes  \\\n",
      "20373    50     4  1992                          494.0             5518.0   \n",
      "\n",
      "       avg_temp  \n",
      "20373     25.71  \n",
      "Prediction:\n",
      "[23647.25333333]\n",
      "Actual:\n",
      "20373    23686\n",
      "Name: hg/ha_yield, dtype: int64 \n",
      "\n",
      "\n",
      "\n"
     ]
    }
   ],
   "source": [
    "loaded = None\n",
    "load_X_test = None\n",
    "load_y_test = None\n",
    "with open('BaggingRegressor.pkl', 'rb') as f:\n",
    "    loaded = pickle.load(f)\n",
    "with open('X_test.pkl', 'rb') as f:\n",
    "    load_X_test = pickle.load(f)\n",
    "with open('y_test.pkl', 'rb') as f:\n",
    "    load_y_test = pickle.load(f)\n",
    "\n",
    "import random\n",
    "for i in range(10):\n",
    "    ind = random.randint(0,len(load_X_test))\n",
    "    print(load_X_test[ind:ind+1])\n",
    "    y_pred = loaded.predict(load_X_test[ind:ind+1])\n",
    "    print(\"Prediction:\")\n",
    "    print(y_pred)\n",
    "    print(\"Actual:\")\n",
    "    print(load_y_test[ind:ind+1],\"\\n\\n\\n\")"
   ]
  },
  {
   "cell_type": "code",
   "execution_count": 12,
   "metadata": {},
   "outputs": [
    {
     "name": "stdout",
     "output_type": "stream",
     "text": [
      "41570.44\n"
     ]
    },
    {
     "name": "stderr",
     "output_type": "stream",
     "text": [
      "c:\\Users\\prana\\anaconda3\\envs\\ml_hw3\\Lib\\site-packages\\sklearn\\base.py:493: UserWarning: X does not have valid feature names, but BaggingRegressor was fitted with feature names\n",
      "  warnings.warn(\n"
     ]
    }
   ],
   "source": [
    "country_encode = {'Algeria': 0, 'Angola': 1, 'Argentina': 2, 'Australia': 3, 'Azerbaijan': 4, 'Bangladesh': 5, 'Brazil': 6, 'Bulgaria': 7, 'Burkina Faso': 8, 'Burundi': 9, 'Cameroon': 10, 'Canada': 11, 'Central African Republic': 12, 'Chile': 13, 'Colombia': 14, 'Croatia': 15, 'Dominican Republic': 16, 'Ecuador': 17, 'Egypt': 18, 'El Salvador': 19, 'France': 20, 'Germany': 21, 'Ghana': 22, 'Greece': 23, 'Guatemala': 24, 'Guinea': 25, 'Guyana': 26, 'Haiti': 27, 'Honduras': 28, 'Hungary': 29, 'India': 30, 'Indonesia': 31, 'Iraq': 32, 'Italy': 33, 'Jamaica': 34, 'Japan': 35, 'Kazakhstan': 36, 'Kenya': 37, 'Libya': 38, 'Madagascar': 39, 'Malawi': 40, 'Mali': 41, 'Mauritania': 42, 'Mauritius': 43, 'Mexico': 44, 'Morocco': 45, 'Mozambique': 46, 'Nepal': 47, 'Nicaragua': 48, 'Niger': 49, 'Pakistan': 50, 'Papua New Guinea': 51, 'Peru': 52, 'Portugal': 53, 'Romania': 54, 'Rwanda': 55, 'Saudi Arabia': 56, 'Senegal': 57, 'South Africa': 58, 'Spain': 59, 'Sri Lanka': 60, 'Suriname': 61, 'Tajikistan': 62, 'Thailand': 63, 'Turkey': 64, 'Uganda': 65, 'Ukraine': 66, 'United Kingdom': 67, 'Uruguay': 68, 'Zambia': 69, 'Zimbabwe': 70}\n",
    "crop_encode = {'Cassava': 0, 'Maize': 1, 'Plantains and others': 2, 'Potatoes': 3, 'Rice, paddy': 4, 'Sorghum': 5, 'Soybeans': 6, 'Sweet potatoes': 7, 'Wheat': 8, 'Yams': 9}\n",
    "\n",
    "# Country, crop, year, Avg rainfall in mm per year, pesticides in tonnes, avg temp\n",
    "args = [['India', 'Rice, paddy', 1994, 758.0, 34468.93, 36.42]]\n",
    "args[0][0] = country_encode[args[0][0]]\n",
    "args[0][1] = crop_encode[args[0][1]]\n",
    "\n",
    "print(loaded.predict(args)[0])"
   ]
  }
 ],
 "metadata": {
  "kernelspec": {
   "display_name": "ml_hw3",
   "language": "python",
   "name": "python3"
  },
  "language_info": {
   "codemirror_mode": {
    "name": "ipython",
    "version": 3
   },
   "file_extension": ".py",
   "mimetype": "text/x-python",
   "name": "python",
   "nbconvert_exporter": "python",
   "pygments_lexer": "ipython3",
   "version": "3.11.10"
  }
 },
 "nbformat": 4,
 "nbformat_minor": 2
}
